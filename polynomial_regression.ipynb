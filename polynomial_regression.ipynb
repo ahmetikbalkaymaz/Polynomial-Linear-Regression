{
 "cells": [
  {
   "cell_type": "markdown",
   "id": "72d220d4",
   "metadata": {},
   "source": [
    "## Polynomial Linear Regression\n",
    "\n",
    "Genel formülü:\n",
    "\n",
    "y = a + b1x + b2x^2 + b3x^3 +.....+ bNx^N"
   ]
  },
  {
   "cell_type": "code",
   "execution_count": 12,
   "id": "7a0da844",
   "metadata": {},
   "outputs": [],
   "source": [
    "import pandas as pd\n",
    "import matplotlib.pyplot as plt\n",
    "from sklearn.linear_model import LinearRegression\n",
    "from sklearn.preprocessing import PolynomialFeatures\n",
    "\n",
    "df = pd.read_csv(\"polynomial.csv\", sep=';')"
   ]
  },
  {
   "cell_type": "code",
   "execution_count": 13,
   "id": "e6e298ba",
   "metadata": {},
   "outputs": [
    {
     "data": {
      "text/html": [
       "<div>\n",
       "<style scoped>\n",
       "    .dataframe tbody tr th:only-of-type {\n",
       "        vertical-align: middle;\n",
       "    }\n",
       "\n",
       "    .dataframe tbody tr th {\n",
       "        vertical-align: top;\n",
       "    }\n",
       "\n",
       "    .dataframe thead th {\n",
       "        text-align: right;\n",
       "    }\n",
       "</style>\n",
       "<table border=\"1\" class=\"dataframe\">\n",
       "  <thead>\n",
       "    <tr style=\"text-align: right;\">\n",
       "      <th></th>\n",
       "      <th>deneyim</th>\n",
       "      <th>maas</th>\n",
       "    </tr>\n",
       "  </thead>\n",
       "  <tbody>\n",
       "    <tr>\n",
       "      <th>0</th>\n",
       "      <td>1</td>\n",
       "      <td>4500</td>\n",
       "    </tr>\n",
       "    <tr>\n",
       "      <th>1</th>\n",
       "      <td>2</td>\n",
       "      <td>5000</td>\n",
       "    </tr>\n",
       "    <tr>\n",
       "      <th>2</th>\n",
       "      <td>3</td>\n",
       "      <td>6000</td>\n",
       "    </tr>\n",
       "    <tr>\n",
       "      <th>3</th>\n",
       "      <td>4</td>\n",
       "      <td>8000</td>\n",
       "    </tr>\n",
       "    <tr>\n",
       "      <th>4</th>\n",
       "      <td>5</td>\n",
       "      <td>11000</td>\n",
       "    </tr>\n",
       "    <tr>\n",
       "      <th>5</th>\n",
       "      <td>6</td>\n",
       "      <td>15000</td>\n",
       "    </tr>\n",
       "    <tr>\n",
       "      <th>6</th>\n",
       "      <td>7</td>\n",
       "      <td>20000</td>\n",
       "    </tr>\n",
       "    <tr>\n",
       "      <th>7</th>\n",
       "      <td>8</td>\n",
       "      <td>30000</td>\n",
       "    </tr>\n",
       "    <tr>\n",
       "      <th>8</th>\n",
       "      <td>9</td>\n",
       "      <td>50000</td>\n",
       "    </tr>\n",
       "    <tr>\n",
       "      <th>9</th>\n",
       "      <td>10</td>\n",
       "      <td>100000</td>\n",
       "    </tr>\n",
       "  </tbody>\n",
       "</table>\n",
       "</div>"
      ],
      "text/plain": [
       "   deneyim    maas\n",
       "0        1    4500\n",
       "1        2    5000\n",
       "2        3    6000\n",
       "3        4    8000\n",
       "4        5   11000\n",
       "5        6   15000\n",
       "6        7   20000\n",
       "7        8   30000\n",
       "8        9   50000\n",
       "9       10  100000"
      ]
     },
     "execution_count": 13,
     "metadata": {},
     "output_type": "execute_result"
    }
   ],
   "source": [
    "df"
   ]
  },
  {
   "cell_type": "code",
   "execution_count": 14,
   "id": "d1fa3bfa",
   "metadata": {},
   "outputs": [
    {
     "data": {
      "image/png": "[encoded data removed]",
      "text/plain": [
       "<Figure size 432x288 with 1 Axes>"
      ]
     },
     "metadata": {
      "needs_background": "light"
     },
     "output_type": "display_data"
    }
   ],
   "source": [
    "plt.scatter(df['deneyim'], df['maas'])\n",
    "plt.xlabel('deneyim')\n",
    "plt.ylabel('maas')\n",
    "plt.savefig('1.png', dpi=300)\n",
    "plt.show()"
   ]
  },
  {
   "cell_type": "code",
   "execution_count": 15,
   "id": "f534089d",
   "metadata": {},
   "outputs": [
    {
     "data": {
      "image/png": "[encoded data removed]",
      "text/plain": [
       "<Figure size 432x288 with 1 Axes>"
      ]
     },
     "metadata": {
      "needs_background": "light"
     },
     "output_type": "display_data"
    }
   ],
   "source": [
    "# Görüldüğü gibi doğrusal değil o yüzden Polynomial Regression Yapılır\n",
    "\n",
    "reg = LinearRegression()\n",
    "reg.fit(df[['deneyim']],df['maas'])\n",
    "\n",
    "plt.xlabel('Deneyim')\n",
    "plt.ylabel('Maas')\n",
    "\n",
    "plt.scatter(df['deneyim'],df['maas'])\n",
    "\n",
    "xekseni = df['deneyim']\n",
    "yekseni = reg.predict(df[['deneyim']])\n",
    "plt.plot(xekseni, yekseni,color=\"green\", label=\"linear regression\")\n",
    "plt.legend()\n",
    "plt.show()"
   ]
  },
  {
   "cell_type": "markdown",
   "id": "72db6dfc",
   "metadata": {},
   "source": [
    "#### KÖTÜ TAHMİN"
   ]
  },
  {
   "cell_type": "markdown",
   "id": "582ee6ba",
   "metadata": {},
   "source": [
    "### Polynomial Linear Regression Uygulanması"
   ]
  },
  {
   "cell_type": "code",
   "execution_count": 19,
   "id": "8f042a60",
   "metadata": {},
   "outputs": [],
   "source": [
    "# bir adet polynomial regression nesnesi oluşturması için PolynomialFeatures fonksiyonunu çağırıyoruz\n",
    "# bu fonksiyonu çağırırken Polinom derecesini (N) belirtiyoruz\n",
    "\n",
    "polynomial_regression = PolynomialFeatures(degree=4)\n",
    "\n",
    "x_polynomial = polynomial_regression.fit_transform(df[['deneyim']]\n",
    "                                                  )"
   ]
  },
  {
   "cell_type": "code",
   "execution_count": 20,
   "id": "31c7a582",
   "metadata": {},
   "outputs": [
    {
     "data": {
      "text/plain": [
       "LinearRegression()"
      ]
     },
     "execution_count": 20,
     "metadata": {},
     "output_type": "execute_result"
    }
   ],
   "source": [
    "# regression modeli nesnemizi olan reg nesnemizi oluşturup bunun fit methodunu çağırarak x_polynomial ve y eksenlerini fit ediyoruz\n",
    "# modelimizi mevcut gerçek verilerle eğitiyoruz\n",
    "\n",
    "reg = LinearRegression()\n",
    "reg.fit(x_polynomial,df['maas'])"
   ]
  },
  {
   "cell_type": "markdown",
   "id": "9481c860",
   "metadata": {},
   "source": [
    "### Grafiğe Bakalım"
   ]
  },
  {
   "cell_type": "code",
   "execution_count": 21,
   "id": "7b5b5ad1",
   "metadata": {},
   "outputs": [
    {
     "data": {
      "image/png": "[encoded data removed]",
      "text/plain": [
       "<Figure size 432x288 with 1 Axes>"
      ]
     },
     "metadata": {
      "needs_background": "light"
     },
     "output_type": "display_data"
    }
   ],
   "source": [
    "y_head = reg.predict(x_polynomial)\n",
    "plt.plot(df['deneyim'], y_head, color='red',label='polynomial regression')\n",
    "\n",
    "plt.legend()\n",
    "\n",
    "plt.scatter(df[\"deneyim\"],df[\"maas\"])\n",
    "\n",
    "plt.show()"
   ]
  },
  {
   "cell_type": "markdown",
   "id": "23460f5b",
   "metadata": {},
   "source": [
    "### Deneyim 4.5 yıl olan biri için tahmin"
   ]
  },
  {
   "cell_type": "code",
   "execution_count": 22,
   "id": "04a1bed8",
   "metadata": {},
   "outputs": [
    {
     "data": {
      "text/plain": [
       "array([10958.21496212])"
      ]
     },
     "execution_count": 22,
     "metadata": {},
     "output_type": "execute_result"
    }
   ],
   "source": [
    "x_polynomial = polynomial_regression.fit_transform([[4.5]])\n",
    "reg.predict(x_polynomial)"
   ]
  },
  {
   "cell_type": "code",
   "execution_count": null,
   "id": "b50698ca",
   "metadata": {},
   "outputs": [],
   "source": []
  }
 ],
 "metadata": {
  "kernelspec": {
   "display_name": "Python 3 (ipykernel)",
   "language": "python",
   "name": "python3"
  },
  "language_info": {
   "codemirror_mode": {
    "name": "ipython",
    "version": 3
   },
   "file_extension": ".py",
   "mimetype": "text/x-python",
   "name": "python",
   "nbconvert_exporter": "python",
   "pygments_lexer": "ipython3",
   "version": "3.7.11"
  }
 },
 "nbformat": 4,
 "nbformat_minor": 5
}
